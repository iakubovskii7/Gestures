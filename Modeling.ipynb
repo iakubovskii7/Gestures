{
 "cells": [
  {
   "cell_type": "code",
   "execution_count": 59,
   "metadata": {
    "collapsed": true,
    "pycharm": {
     "name": "#%%\n"
    }
   },
   "outputs": [],
   "source": [
    "import pandas as pd\n",
    "import numpy as np\n",
    "from tqdm.notebook import tqdm\n",
    "import warnings\n",
    "warnings.filterwarnings(\"ignore\")\n",
    "df_raw = pd.read_csv(\"CoST.csv\")\n",
    "# df = pd.read_csv(\"https://data.4tu.nl/articles/dataset/Corpus_of_Social_Touch_CoST_/12696869?file=24044075\", sep='\\t')\n"
   ]
  },
  {
   "cell_type": "markdown",
   "source": [
    "# Preprocessing\n",
    "\n",
    "frame = 135 - 1 second"
   ],
   "metadata": {
    "collapsed": false,
    "pycharm": {
     "name": "#%% md\n"
    }
   }
  },
  {
   "cell_type": "code",
   "execution_count": 2,
   "outputs": [
    {
     "data": {
      "text/plain": "1       7805\n7       7805\n10      7805\n9       7805\n8       7805\n        ... \n1580       1\n1581       1\n1582       1\n1583       1\n1747       1\nName: frame, Length: 1747, dtype: int64"
     },
     "execution_count": 2,
     "metadata": {},
     "output_type": "execute_result"
    }
   ],
   "source": [
    "df = df_raw.copy()\n",
    "df.columns = df.columns.str.strip(\" \")\n",
    "df = df.set_index(['subject', 'variant', 'gesture'])\n",
    "df['frame'].value_counts()"
   ],
   "metadata": {
    "collapsed": false,
    "pycharm": {
     "name": "#%%\n"
    }
   }
  },
  {
   "cell_type": "code",
   "execution_count": 3,
   "outputs": [
    {
     "data": {
      "text/plain": "0it [00:00, ?it/s]",
      "application/vnd.jupyter.widget-view+json": {
       "version_major": 2,
       "version_minor": 0,
       "model_id": "d6dfdef2ac314d2098e2c0cdda0bb7fb"
      }
     },
     "metadata": {},
     "output_type": "display_data"
    },
    {
     "ename": "IndexError",
     "evalue": "index 1496855 is out of bounds for axis 0 with size 1496855",
     "output_type": "error",
     "traceback": [
      "\u001B[0;31m---------------------------------------------------------------------------\u001B[0m",
      "\u001B[0;31mIndexError\u001B[0m                                Traceback (most recent call last)",
      "Input \u001B[0;32mIn [3]\u001B[0m, in \u001B[0;36m<cell line: 5>\u001B[0;34m()\u001B[0m\n\u001B[1;32m      4\u001B[0m i \u001B[38;5;241m=\u001B[39m \u001B[38;5;241m1\u001B[39m\n\u001B[1;32m      5\u001B[0m \u001B[38;5;28;01mfor\u001B[39;00m index, element \u001B[38;5;129;01min\u001B[39;00m tqdm(\u001B[38;5;28menumerate\u001B[39m(values)):\n\u001B[0;32m----> 6\u001B[0m     \u001B[38;5;28;01mif\u001B[39;00m \u001B[43mvalues\u001B[49m\u001B[43m[\u001B[49m\u001B[43mindex\u001B[49m\u001B[43m \u001B[49m\u001B[38;5;241;43m+\u001B[39;49m\u001B[43m \u001B[49m\u001B[38;5;241;43m1\u001B[39;49m\u001B[43m]\u001B[49m \u001B[38;5;241m<\u001B[39m values[index]:\n\u001B[1;32m      7\u001B[0m         df\u001B[38;5;241m.\u001B[39mloc[index, \u001B[38;5;124m\"\u001B[39m\u001B[38;5;124mobservation\u001B[39m\u001B[38;5;124m\"\u001B[39m] \u001B[38;5;241m=\u001B[39m i\n\u001B[1;32m      8\u001B[0m         i \u001B[38;5;241m+\u001B[39m\u001B[38;5;241m=\u001B[39m \u001B[38;5;241m1\u001B[39m\n",
      "\u001B[0;31mIndexError\u001B[0m: index 1496855 is out of bounds for axis 0 with size 1496855"
     ]
    }
   ],
   "source": [
    "df['observation'] = np.nan\n",
    "df = df.reset_index()\n",
    "values = df['frame'].values\n",
    "i = 1\n",
    "for index, element in tqdm(enumerate(values)):\n",
    "    if values[index + 1] < values[index]:\n",
    "        df.loc[index, \"observation\"] = i\n",
    "        i += 1"
   ],
   "metadata": {
    "collapsed": false,
    "pycharm": {
     "name": "#%%\n"
    }
   }
  },
  {
   "cell_type": "code",
   "execution_count": 4,
   "outputs": [],
   "source": [
    "df['observation'] = df['observation'].fillna(method='bfill')\n",
    "df['observation'] = df['observation'].fillna(df['observation'].max() + 1)\n",
    "df['observation'] = df['observation'].astype(int)"
   ],
   "metadata": {
    "collapsed": false,
    "pycharm": {
     "name": "#%%\n"
    }
   }
  },
  {
   "cell_type": "code",
   "execution_count": 5,
   "outputs": [],
   "source": [
    "# Create ML dataset\n",
    "\n",
    "data = pd.DataFrame(index=np.arange(1, df['observation'].max() + 1).astype(int), columns=['duration'])\n",
    "\n",
    "# Add gesture (y)\n",
    "data['gesture'] = pd.Series(df.drop_duplicates(['observation'], keep='last')['gesture'].values)\n",
    "\n",
    "dict_gesture = {1: \"grab\", 2: \"hit\", 3: \"massage\", 4: \"pat\", 5: \"pinch\",\n",
    "                6: \"poke\", 7: \"press\", 8: \"rub\", 9: \"scratch\", 10: \"slap\", 11: \"squeeze\",\n",
    "                12: \"stroke\", 13: \"tap\", 14: \"tickle\"}\n",
    "\n",
    "data['gesture'] = data['gesture'].map(dict_gesture)\n",
    "\n",
    "data['variant'] = pd.Series(df.drop_duplicates(['observation'], keep='last')['variant'].values)\n",
    "dict_variant = {1: \"gentle\", 2: \"normal\", 3: \"rough\"}\n",
    "data['variant'] = data['variant'].map(dict_variant)\n",
    "\n",
    "\n",
    "# Add duration for every observation\n",
    "data['duration'] = (df.drop_duplicates(['observation'], keep='last')['frame'] / 135).values"
   ],
   "metadata": {
    "collapsed": false,
    "pycharm": {
     "name": "#%%\n"
    }
   }
  },
  {
   "cell_type": "markdown",
   "source": [
    "Some unique combination of subject, variant, gesture have 5 repetitions. 7805 gesture captures"
   ],
   "metadata": {
    "collapsed": false,
    "pycharm": {
     "name": "#%% md\n"
    }
   }
  },
  {
   "cell_type": "markdown",
   "source": [
    "# Feature engineering\n",
    "\n",
    "– Mean pressure is the mean over channels and time (1).\n",
    "\n",
    "– Maximum pressure is the maximum value over channels\n",
    "and time (2).\n",
    "\n",
    "– Pressure variability is the mean over time of the sum over\n",
    "channels of the absolute value of difference between two\n",
    "consecutive frames (3).\n",
    "\n",
    "– Mean pressure per row is the mean over columns and time\n",
    "resulting in one feature per row which are in the direction\n",
    "of the mannequin arm’s length (from top to bottom, 4–\n",
    "11).\n",
    "\n",
    "– Mean pressure per column is the mean over rows and\n",
    "time resulting in one feature per column which are in\n",
    "the direction of the mannequin arm’s width (from left to\n",
    "right, 12–19).\n",
    "\n",
    "– Contact area per frame is the fraction of channels with a\n",
    "value above 50 % of the maximum value. Mean contact\n",
    "area is the mean over time of contact area (20) and the\n",
    "maximum pressure contact area is the contact area of the\n",
    "frame with the highest mean pressure over channels (21).\n",
    "The size of the contact area indicated whether the whole\n",
    "hand was used for a touch gesture, as would be expected"
   ],
   "metadata": {
    "collapsed": false,
    "pycharm": {
     "name": "#%% md\n"
    }
   }
  },
  {
   "cell_type": "code",
   "execution_count": 6,
   "outputs": [],
   "source": [
    "# Mean pressure\n",
    "ch_cols = [i for i in df.columns if i.startswith(\"ch\")]\n",
    "data['mean_pressure'] = df.groupby('observation')[ch_cols].mean().mean(axis=1)"
   ],
   "metadata": {
    "collapsed": false,
    "pycharm": {
     "name": "#%%\n"
    }
   }
  },
  {
   "cell_type": "code",
   "execution_count": 7,
   "outputs": [
    {
     "data": {
      "text/plain": "gesture\ngrab       341.931508\nhit        127.462967\nmassage    207.492889\npat        128.959427\npinch      148.889580\npoke       118.970094\npress      201.823134\nrub        164.400707\nscratch    138.925870\nslap       120.755853\nsqueeze    285.747048\nstroke     149.573673\ntap        117.651540\ntickle     127.242386\nName: mean_pressure, dtype: float64"
     },
     "execution_count": 7,
     "metadata": {},
     "output_type": "execute_result"
    }
   ],
   "source": [
    "data.groupby(['gesture'])['mean_pressure'].mean()"
   ],
   "metadata": {
    "collapsed": false,
    "pycharm": {
     "name": "#%%\n"
    }
   }
  },
  {
   "cell_type": "code",
   "execution_count": 8,
   "outputs": [],
   "source": [
    "# Maximum pressure\n",
    "data['maximum_pressure'] = df.groupby('observation')[ch_cols].max().max(axis=1)"
   ],
   "metadata": {
    "collapsed": false,
    "pycharm": {
     "name": "#%%\n"
    }
   }
  },
  {
   "cell_type": "code",
   "execution_count": 9,
   "outputs": [
    {
     "data": {
      "text/plain": "gesture\ngrab       1708.850987\nhit        1689.304659\nmassage    1693.558348\npat        1513.917415\npinch      1691.086022\npoke       1534.254480\npress      1703.835125\nrub        1595.583483\nscratch    1539.315412\nslap       1579.863799\nsqueeze    1756.057451\nstroke     1539.482014\ntap        1491.870968\ntickle     1444.904847\nName: maximum_pressure, dtype: float64"
     },
     "execution_count": 9,
     "metadata": {},
     "output_type": "execute_result"
    }
   ],
   "source": [
    "data.groupby(['gesture'])['maximum_pressure'].mean() * 2"
   ],
   "metadata": {
    "collapsed": false,
    "pycharm": {
     "name": "#%%\n"
    }
   }
  },
  {
   "cell_type": "code",
   "execution_count": 10,
   "outputs": [],
   "source": [
    "# Variance over channels and time (44)\n",
    "data['variance'] = df.groupby('observation')[ch_cols].var().var(axis=1)"
   ],
   "metadata": {
    "collapsed": false,
    "pycharm": {
     "name": "#%%\n"
    }
   }
  },
  {
   "cell_type": "code",
   "execution_count": 11,
   "outputs": [],
   "source": [
    "# Contact area per frame\n",
    "# Attention! It's really time and memory expensive\n",
    "df['contact_area'] = df[ch_cols].apply(lambda x: np.mean(x > x.max() * 0.5), axis=1)\n",
    "data['mean_contact_area'] = df.groupby('observation')['contact_area'].mean()"
   ],
   "metadata": {
    "collapsed": false,
    "pycharm": {
     "name": "#%%\n"
    }
   }
  },
  {
   "cell_type": "code",
   "execution_count": 14,
   "outputs": [],
   "source": [
    "data.to_csv(\"final_dataset.csv\")"
   ],
   "metadata": {
    "collapsed": false,
    "pycharm": {
     "name": "#%%\n"
    }
   }
  },
  {
   "cell_type": "markdown",
   "source": [
    "# Modeling"
   ],
   "metadata": {
    "collapsed": false,
    "pycharm": {
     "name": "#%% md\n"
    }
   }
  },
  {
   "cell_type": "code",
   "execution_count": 24,
   "outputs": [
    {
     "name": "stderr",
     "output_type": "stream",
     "text": [
      "/tmp/ipykernel_43314/2235872883.py:4: SettingWithCopyWarning: \n",
      "A value is trying to be set on a copy of a slice from a DataFrame.\n",
      "Try using .loc[row_indexer,col_indexer] = value instead\n",
      "\n",
      "See the caveats in the documentation: https://pandas.pydata.org/pandas-docs/stable/user_guide/indexing.html#returning-a-view-versus-a-copy\n",
      "  data['gesture'] = data['gesture'].astype(int)\n"
     ]
    }
   ],
   "source": [
    "# dict_gesture_inverse\n",
    "dict_gesture_inverse = {value: key for key, value in dict_gesture.items()}\n",
    "data = data.dropna()\n",
    "data['gesture'] = data['gesture'].map(dict_gesture_inverse)"
   ],
   "metadata": {
    "collapsed": false,
    "pycharm": {
     "name": "#%%\n"
    }
   }
  },
  {
   "cell_type": "code",
   "execution_count": 30,
   "outputs": [],
   "source": [
    "from sklearn.model_selection import train_test_split\n",
    "X_train, X_test, y_train, y_test = train_test_split(data.drop(columns=['gesture', 'variant']),\n",
    "                                                    data['gesture'],\n",
    "                                                    test_size=0.3)"
   ],
   "metadata": {
    "collapsed": false,
    "pycharm": {
     "name": "#%%\n"
    }
   }
  },
  {
   "cell_type": "code",
   "execution_count": 45,
   "outputs": [],
   "source": [
    "from sklearn.metrics import (accuracy_score, recall_score, precision_score,\n",
    "                             roc_auc_score, f1_score)"
   ],
   "metadata": {
    "collapsed": false,
    "pycharm": {
     "name": "#%%\n"
    }
   }
  },
  {
   "cell_type": "code",
   "execution_count": 50,
   "outputs": [
    {
     "data": {
      "text/plain": "Pipeline(steps=[('scal', StandardScaler()),\n                ('model', SVC(decision_function_shape='ovo'))])"
     },
     "execution_count": 50,
     "metadata": {},
     "output_type": "execute_result"
    }
   ],
   "source": [
    "from sklearn.pipeline import Pipeline\n",
    "from sklearn.preprocessing import StandardScaler\n",
    "from sklearn.svm import SVC\n",
    "from sklearn.compose import ColumnTransformer\n",
    "\n",
    "pipe_svm = Pipeline([\n",
    "    ('scal', StandardScaler()),\n",
    "    ('model', SVC(decision_function_shape='ovo'))\n",
    "])\n",
    "pipe_svm.fit(X_train, y_train)"
   ],
   "metadata": {
    "collapsed": false,
    "pycharm": {
     "name": "#%%\n"
    }
   }
  },
  {
   "cell_type": "code",
   "execution_count": 44,
   "outputs": [
    {
     "data": {
      "text/plain": "Pipeline(steps=[('scal', StandardScaler()),\n                ('model', RandomForestClassifier())])"
     },
     "execution_count": 44,
     "metadata": {},
     "output_type": "execute_result"
    }
   ],
   "source": [
    "from sklearn.ensemble import RandomForestClassifier\n",
    "pipe_forest = Pipeline([\n",
    "    ('scal', StandardScaler()),\n",
    "    ('model', RandomForestClassifier())\n",
    "])\n",
    "pipe_forest.fit(X_train, y_train)"
   ],
   "metadata": {
    "collapsed": false,
    "pycharm": {
     "name": "#%%\n"
    }
   }
  },
  {
   "cell_type": "code",
   "execution_count": 49,
   "outputs": [
    {
     "data": {
      "text/plain": "{'accuracy': 0.4039282664389411,\n 'precision': 0.4039282664389411,\n 'recall': 0.4039282664389411}"
     },
     "execution_count": 49,
     "metadata": {},
     "output_type": "execute_result"
    }
   ],
   "source": [
    "def metrics(y_true, model):\n",
    "    dict_metrics = {}\n",
    "    dict_metrics['accuracy'] = accuracy_score(y_true, model.predict(X_test))\n",
    "    dict_metrics['precision'] = precision_score(y_true, model.predict(X_test), average='micro')\n",
    "    dict_metrics['recall'] = recall_score(y_true, model.predict(X_test), average='micro')\n",
    "    return dict_metrics\n",
    "metrics(y_test, pipe_forest)"
   ],
   "metadata": {
    "collapsed": false,
    "pycharm": {
     "name": "#%%\n"
    }
   }
  },
  {
   "cell_type": "markdown",
   "source": [
    "## Add complex preprocessing and cross validation"
   ],
   "metadata": {
    "collapsed": false,
    "pycharm": {
     "name": "#%% md\n"
    }
   }
  },
  {
   "cell_type": "code",
   "execution_count": 51,
   "outputs": [
    {
     "name": "stdout",
     "output_type": "stream",
     "text": [
      "CPU times: user 3.21 s, sys: 433 ms, total: 3.64 s\n",
      "Wall time: 28.9 s\n"
     ]
    },
    {
     "data": {
      "text/plain": "RandomizedSearchCV(cv=KFold(n_splits=5, random_state=None, shuffle=False),\n                   estimator=Pipeline(steps=[('scl',\n                                              ColumnTransformer(transformers=[('num',\n                                                                               Pipeline(steps=[('imputer',\n                                                                                                SimpleImputer(strategy='median')),\n                                                                                               ('scaler',\n                                                                                                StandardScaler(with_mean=False,\n                                                                                                               with_std=False))]),\n                                                                               Index(['duration', 'mean_pressure', 'maximum_pressure', 'variance',\n       'mean_contact_area'],\n      dtype='object'))])),\n                                             ('clf',\n                                              RandomForestClassifier(n_jobs=-1))]),\n                   n_iter=30, n_jobs=-1,\n                   param_distributions={'clf__max_depth': [3, 5, 6, 10, 15],\n                                        'clf__max_features': ['sqrt', 'log2'],\n                                        'clf__min_samples_leaf': array([ 1,  2,  3,  4,  5,  6,  7,  8,  9, 10, 11, 12, 13, 14, 15, 16, 17,\n       18, 19, 20, 21, 22, 23, 24, 25, 26, 27, 28, 29]),\n                                        'clf__n_estimators': [100, 200, 300,\n                                                              400, 500]})"
     },
     "execution_count": 51,
     "metadata": {},
     "output_type": "execute_result"
    }
   ],
   "source": [
    "%%time\n",
    "from sklearn.impute import SimpleImputer\n",
    "from sklearn.model_selection import RandomizedSearchCV\n",
    "from sklearn.model_selection import KFold\n",
    "numeric_transformer = Pipeline(steps=[\n",
    "    ('imputer', SimpleImputer(strategy='median')),\n",
    "    ('scaler', StandardScaler(with_std=False, with_mean=False))])\n",
    "\n",
    "preprocessor = ColumnTransformer(\n",
    "    transformers=[\n",
    "        ('num', numeric_transformer, X_train.columns),\n",
    "        ])\n",
    "\n",
    "pipe_forest = Pipeline([('scl', preprocessor),\n",
    "                        ('clf', RandomForestClassifier(n_jobs=-1, oob_score=False))\n",
    "                        ])  # pipeline with all steps\n",
    "param_dist_forest = {'clf__max_depth': [3, 5, 6, 10, 15],\n",
    "                     'clf__n_estimators': [100, 200, 300, 400, 500],\n",
    "                     'clf__max_features': ['sqrt', 'log2'],\n",
    "                     'clf__min_samples_leaf': np.arange(1, 30)\n",
    "                     }  # parameters for Grid\n",
    "# Cross-validation choice\n",
    "skf = KFold(5)\n",
    "forest_randomized_pipe = RandomizedSearchCV(estimator=pipe_forest,\n",
    "                                            param_distributions=param_dist_forest,\n",
    "                                            cv=skf, n_iter=30, n_jobs=-1)\n",
    "forest_randomized_pipe.fit(X_train, y_train)"
   ],
   "metadata": {
    "collapsed": false,
    "pycharm": {
     "name": "#%%\n"
    }
   }
  },
  {
   "cell_type": "code",
   "execution_count": 52,
   "outputs": [
    {
     "data": {
      "text/plain": "{'accuracy': 0.40905209222886424,\n 'precision': 0.40905209222886424,\n 'recall': 0.40905209222886424}"
     },
     "execution_count": 52,
     "metadata": {},
     "output_type": "execute_result"
    }
   ],
   "source": [
    "metrics(y_test, forest_randomized_pipe)"
   ],
   "metadata": {
    "collapsed": false,
    "pycharm": {
     "name": "#%%\n"
    }
   }
  },
  {
   "cell_type": "markdown",
   "source": [
    "## Analyze quality of predictions depending on gesture name"
   ],
   "metadata": {
    "collapsed": false,
    "pycharm": {
     "name": "#%% md\n"
    }
   }
  },
  {
   "cell_type": "code",
   "execution_count": 64,
   "outputs": [],
   "source": [
    "data_predictions = data.iloc[X_test.index]\n",
    "data_predictions['y_predict'] = forest_randomized_pipe.predict(X_test)\n",
    "data_predictions['y_true'] = y_test.values\n",
    "data_predictions['correct'] = np.where(data_predictions['y_true'] == data_predictions['y_predict'], 1, 0)\n",
    "\n",
    "gesture_correcter = data_predictions.groupby(['gesture'])['correct'].mean().sort_values(ascending=False).to_frame()\\\n",
    "    .join(data_predictions['gesture'].value_counts(normalize=True).to_frame(\"gesture_num_obs\"))\n",
    "gesture_correcter.index = gesture_correcter.index.map(dict_gesture)"
   ],
   "metadata": {
    "collapsed": false,
    "pycharm": {
     "name": "#%%\n"
    }
   }
  },
  {
   "cell_type": "code",
   "execution_count": null,
   "outputs": [],
   "source": [],
   "metadata": {
    "collapsed": false,
    "pycharm": {
     "name": "#%%\n"
    }
   }
  },
  {
   "cell_type": "markdown",
   "source": [],
   "metadata": {
    "collapsed": false,
    "pycharm": {
     "name": "#%% md\n"
    }
   }
  }
 ],
 "metadata": {
  "kernelspec": {
   "display_name": "Python 3",
   "language": "python",
   "name": "python3"
  },
  "language_info": {
   "codemirror_mode": {
    "name": "ipython",
    "version": 2
   },
   "file_extension": ".py",
   "mimetype": "text/x-python",
   "name": "python",
   "nbconvert_exporter": "python",
   "pygments_lexer": "ipython2",
   "version": "2.7.6"
  }
 },
 "nbformat": 4,
 "nbformat_minor": 0
}