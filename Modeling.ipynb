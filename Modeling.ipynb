{
 "cells": [
  {
   "cell_type": "code",
   "execution_count": 1,
   "metadata": {
    "collapsed": true,
    "pycharm": {
     "name": "#%%\n"
    }
   },
   "outputs": [],
   "source": [
    "import pandas as pd\n",
    "import numpy as np\n",
    "from tqdm.notebook import tqdm\n",
    "df_raw = pd.read_csv(\"CoST.csv\")\n",
    "# df = pd.read_csv(\"https://data.4tu.nl/articles/dataset/Corpus_of_Social_Touch_CoST_/12696869?file=24044075\", sep='\\t')"
   ]
  },
  {
   "cell_type": "markdown",
   "source": [
    "# Preprocessing\n",
    "\n",
    "frame = 135 - 1 second"
   ],
   "metadata": {
    "collapsed": false,
    "pycharm": {
     "name": "#%% md\n"
    }
   }
  },
  {
   "cell_type": "code",
   "execution_count": 2,
   "outputs": [
    {
     "data": {
      "text/plain": "1       7805\n7       7805\n10      7805\n9       7805\n8       7805\n        ... \n1580       1\n1581       1\n1582       1\n1583       1\n1747       1\nName: frame, Length: 1747, dtype: int64"
     },
     "execution_count": 2,
     "metadata": {},
     "output_type": "execute_result"
    }
   ],
   "source": [
    "df = df_raw.copy()\n",
    "df.columns = df.columns.str.strip(\" \")\n",
    "df = df.set_index(['subject', 'variant', 'gesture'])\n",
    "df['frame'].value_counts()"
   ],
   "metadata": {
    "collapsed": false,
    "pycharm": {
     "name": "#%%\n"
    }
   }
  },
  {
   "cell_type": "code",
   "execution_count": 3,
   "outputs": [
    {
     "data": {
      "text/plain": "0it [00:00, ?it/s]",
      "application/vnd.jupyter.widget-view+json": {
       "version_major": 2,
       "version_minor": 0,
       "model_id": "77a3012e93b5449aa3729ef885b93bd1"
      }
     },
     "metadata": {},
     "output_type": "display_data"
    },
    {
     "ename": "IndexError",
     "evalue": "index 1496855 is out of bounds for axis 0 with size 1496855",
     "output_type": "error",
     "traceback": [
      "\u001B[0;31m---------------------------------------------------------------------------\u001B[0m",
      "\u001B[0;31mIndexError\u001B[0m                                Traceback (most recent call last)",
      "Input \u001B[0;32mIn [3]\u001B[0m, in \u001B[0;36m<cell line: 5>\u001B[0;34m()\u001B[0m\n\u001B[1;32m      4\u001B[0m i \u001B[38;5;241m=\u001B[39m \u001B[38;5;241m1\u001B[39m\n\u001B[1;32m      5\u001B[0m \u001B[38;5;28;01mfor\u001B[39;00m index, element \u001B[38;5;129;01min\u001B[39;00m tqdm(\u001B[38;5;28menumerate\u001B[39m(values)):\n\u001B[0;32m----> 6\u001B[0m     \u001B[38;5;28;01mif\u001B[39;00m \u001B[43mvalues\u001B[49m\u001B[43m[\u001B[49m\u001B[43mindex\u001B[49m\u001B[43m \u001B[49m\u001B[38;5;241;43m+\u001B[39;49m\u001B[43m \u001B[49m\u001B[38;5;241;43m1\u001B[39;49m\u001B[43m]\u001B[49m \u001B[38;5;241m<\u001B[39m values[index]:\n\u001B[1;32m      7\u001B[0m         df\u001B[38;5;241m.\u001B[39mloc[index, \u001B[38;5;124m\"\u001B[39m\u001B[38;5;124mobservation\u001B[39m\u001B[38;5;124m\"\u001B[39m] \u001B[38;5;241m=\u001B[39m i\n\u001B[1;32m      8\u001B[0m         i \u001B[38;5;241m+\u001B[39m\u001B[38;5;241m=\u001B[39m \u001B[38;5;241m1\u001B[39m\n",
      "\u001B[0;31mIndexError\u001B[0m: index 1496855 is out of bounds for axis 0 with size 1496855"
     ]
    }
   ],
   "source": [
    "df['observation'] = np.nan\n",
    "df = df.reset_index()\n",
    "values = df['frame'].values\n",
    "i = 1\n",
    "for index, element in tqdm(enumerate(values)):\n",
    "    if values[index + 1] < values[index]:\n",
    "        df.loc[index, \"observation\"] = i\n",
    "        i += 1"
   ],
   "metadata": {
    "collapsed": false,
    "pycharm": {
     "name": "#%%\n"
    }
   }
  },
  {
   "cell_type": "code",
   "execution_count": 5,
   "outputs": [],
   "source": [
    "df['observation'] = df['observation'].fillna(method='bfill')\n",
    "df['observation'] = df['observation'].fillna(df['observation'].max() + 1)\n",
    "df['observation'] = df['observation'].astype(int)"
   ],
   "metadata": {
    "collapsed": false,
    "pycharm": {
     "name": "#%%\n"
    }
   }
  },
  {
   "cell_type": "code",
   "execution_count": 6,
   "outputs": [],
   "source": [
    "# Create ML dataset\n",
    "\n",
    "data = pd.DataFrame(index=np.arange(1, df['observation'].max() + 1).astype(int), columns=['duration'])\n",
    "\n",
    "# Add gesture (y)\n",
    "data['gesture'] = pd.Series(df.drop_duplicates(['observation'], keep='last')['gesture'].values)\n",
    "\n",
    "dict_gesture = {1: \"grab\", 2: \"hit\", 3: \"massage\", 4: \"pat\", 5: \"pinch\",\n",
    "                6: \"poke\", 7: \"press\", 8: \"rub\", 9: \"scratch\", 10: \"slap\", 11: \"squeeze\",\n",
    "                12: \"stroke\", 13: \"tap\", 14: \"tickle\"}\n",
    "\n",
    "data['gesture'] = data['gesture'].map(dict_gesture)\n",
    "\n",
    "data['variant'] = pd.Series(df.drop_duplicates(['observation'], keep='last')['variant'].values)\n",
    "dict_variant = {1: \"gentle\", 2: \"normal\", 3: \"rough\"}\n",
    "data['variant'] = data['variant'].map(dict_variant)\n",
    "\n",
    "\n",
    "# Add duration for every observation\n",
    "data['duration'] = (df.drop_duplicates(['observation'], keep='last')['frame'] / 135).values"
   ],
   "metadata": {
    "collapsed": false,
    "pycharm": {
     "name": "#%%\n"
    }
   }
  },
  {
   "cell_type": "markdown",
   "source": [
    "Some unique combination of subject, variant, gesture have 5 repetitions. 7805 gesture captures"
   ],
   "metadata": {
    "collapsed": false,
    "pycharm": {
     "name": "#%% md\n"
    }
   }
  },
  {
   "cell_type": "markdown",
   "source": [
    "# Feature engineering\n",
    "\n",
    "– Mean pressure is the mean over channels and time (1).\n",
    "\n",
    "– Maximum pressure is the maximum value over channels\n",
    "and time (2).\n",
    "\n",
    "– Pressure variability is the mean over time of the sum over\n",
    "channels of the absolute value of difference between two\n",
    "consecutive frames (3).\n",
    "\n",
    "– Mean pressure per row is the mean over columns and time\n",
    "resulting in one feature per row which are in the direction\n",
    "of the mannequin arm’s length (from top to bottom, 4–\n",
    "11).\n",
    "\n",
    "– Mean pressure per column is the mean over rows and\n",
    "time resulting in one feature per column which are in\n",
    "the direction of the mannequin arm’s width (from left to\n",
    "right, 12–19).\n",
    "\n",
    "– Contact area per frame is the fraction of channels with a\n",
    "value above 50 % of the maximum value. Mean contact\n",
    "area is the mean over time of contact area (20) and the\n",
    "maximum pressure contact area is the contact area of the\n",
    "frame with the highest mean pressure over channels (21).\n",
    "The size of the contact area indicated whether the whole\n",
    "hand was used for a touch gesture, as would be expected"
   ],
   "metadata": {
    "collapsed": false,
    "pycharm": {
     "name": "#%% md\n"
    }
   }
  },
  {
   "cell_type": "code",
   "execution_count": 7,
   "outputs": [],
   "source": [
    "# Mean pressure\n",
    "ch_cols = [i for i in df.columns if i.startswith(\"ch\")]\n",
    "data['mean_pressure'] = df.groupby('observation')[ch_cols].mean().mean(axis=1)"
   ],
   "metadata": {
    "collapsed": false,
    "pycharm": {
     "name": "#%%\n"
    }
   }
  },
  {
   "cell_type": "code",
   "execution_count": 189,
   "outputs": [
    {
     "data": {
      "text/plain": "gesture\ngrab       341.931508\nhit        127.462967\nmassage    207.492889\npat        128.959427\npinch      148.889580\npoke       118.970094\npress      201.823134\nrub        164.400707\nscratch    138.925870\nslap       120.755853\nsqueeze    285.747048\nstroke     149.573673\ntap        117.651540\ntickle     127.242386\nName: mean_pressure, dtype: float64"
     },
     "execution_count": 189,
     "metadata": {},
     "output_type": "execute_result"
    }
   ],
   "source": [
    "data.groupby(['gesture'])['mean_pressure'].mean()"
   ],
   "metadata": {
    "collapsed": false,
    "pycharm": {
     "name": "#%%\n"
    }
   }
  },
  {
   "cell_type": "code",
   "execution_count": 8,
   "outputs": [],
   "source": [
    "# Maximum pressure\n",
    "data['maximum_pressure'] = df.groupby('observation')[ch_cols].max().max(axis=1)"
   ],
   "metadata": {
    "collapsed": false,
    "pycharm": {
     "name": "#%%\n"
    }
   }
  },
  {
   "cell_type": "code",
   "execution_count": 211,
   "outputs": [
    {
     "data": {
      "text/plain": "gesture\ngrab       1708.850987\nhit        1689.304659\nmassage    1693.558348\npat        1513.917415\npinch      1691.086022\npoke       1534.254480\npress      1703.835125\nrub        1595.583483\nscratch    1539.315412\nslap       1579.863799\nsqueeze    1756.057451\nstroke     1539.482014\ntap        1491.870968\ntickle     1444.904847\nName: maximum_pressure, dtype: float64"
     },
     "execution_count": 211,
     "metadata": {},
     "output_type": "execute_result"
    }
   ],
   "source": [
    "data.groupby(['gesture'])['maximum_pressure'].mean() * 2"
   ],
   "metadata": {
    "collapsed": false,
    "pycharm": {
     "name": "#%%\n"
    }
   }
  },
  {
   "cell_type": "code",
   "execution_count": 9,
   "outputs": [],
   "source": [
    "# Variance over channels and time (44)\n",
    "data['variance'] = df.groupby('observation')[ch_cols].var().var(axis=1)"
   ],
   "metadata": {
    "collapsed": false,
    "pycharm": {
     "name": "#%%\n"
    }
   }
  },
  {
   "cell_type": "code",
   "execution_count": 12,
   "outputs": [],
   "source": [
    "# Contact area per frame\n",
    "# Attention! It's really time and memory expensive\n",
    "df['contact_area'] = df[ch_cols].apply(lambda x: np.mean(x > x.max() * 0.5), axis=1)\n",
    "data['mean_contact_area'] = df.groupby('observation')['contact_area'].mean()"
   ],
   "metadata": {
    "collapsed": false,
    "pycharm": {
     "name": "#%%\n"
    }
   }
  },
  {
   "cell_type": "code",
   "execution_count": 62,
   "outputs": [
    {
     "data": {
      "text/plain": "      duration gesture variant  mean_pressure  maximum_pressure      variance  \\\n1     0.474074    grab  gentle     136.772461               439  1.346562e+07   \n2     0.496296    grab  gentle     193.445196               594  1.043202e+08   \n3     0.496296    grab  gentle     112.382929               515  1.193715e+07   \n4     0.651852    grab  gentle     156.530717               657  1.455307e+08   \n5     0.896296    grab  gentle     156.828771               786  6.985941e+08   \n...        ...     ...     ...            ...               ...           ...   \n7801  2.896296  tickle   rough     171.512228               853  8.934892e+07   \n7802  4.029630  tickle   rough     141.360754               864  3.718105e+07   \n7803  3.207407  tickle   rough     162.377057               885  1.146045e+08   \n7804  2.962963  tickle   rough     149.128516               890  1.321851e+08   \n7805  3.074074     NaN     NaN     143.350828               905  1.480930e+08   \n\n      mean_contact_area  \n1              0.309570  \n2              0.410215  \n3              0.233442  \n4              0.208452  \n5              0.309788  \n...                 ...  \n7801           0.210358  \n7802           0.226218  \n7803           0.205362  \n7804           0.176523  \n7805           0.177937  \n\n[7805 rows x 7 columns]",
      "text/html": "<div>\n<style scoped>\n    .dataframe tbody tr th:only-of-type {\n        vertical-align: middle;\n    }\n\n    .dataframe tbody tr th {\n        vertical-align: top;\n    }\n\n    .dataframe thead th {\n        text-align: right;\n    }\n</style>\n<table border=\"1\" class=\"dataframe\">\n  <thead>\n    <tr style=\"text-align: right;\">\n      <th></th>\n      <th>duration</th>\n      <th>gesture</th>\n      <th>variant</th>\n      <th>mean_pressure</th>\n      <th>maximum_pressure</th>\n      <th>variance</th>\n      <th>mean_contact_area</th>\n    </tr>\n  </thead>\n  <tbody>\n    <tr>\n      <th>1</th>\n      <td>0.474074</td>\n      <td>grab</td>\n      <td>gentle</td>\n      <td>136.772461</td>\n      <td>439</td>\n      <td>1.346562e+07</td>\n      <td>0.309570</td>\n    </tr>\n    <tr>\n      <th>2</th>\n      <td>0.496296</td>\n      <td>grab</td>\n      <td>gentle</td>\n      <td>193.445196</td>\n      <td>594</td>\n      <td>1.043202e+08</td>\n      <td>0.410215</td>\n    </tr>\n    <tr>\n      <th>3</th>\n      <td>0.496296</td>\n      <td>grab</td>\n      <td>gentle</td>\n      <td>112.382929</td>\n      <td>515</td>\n      <td>1.193715e+07</td>\n      <td>0.233442</td>\n    </tr>\n    <tr>\n      <th>4</th>\n      <td>0.651852</td>\n      <td>grab</td>\n      <td>gentle</td>\n      <td>156.530717</td>\n      <td>657</td>\n      <td>1.455307e+08</td>\n      <td>0.208452</td>\n    </tr>\n    <tr>\n      <th>5</th>\n      <td>0.896296</td>\n      <td>grab</td>\n      <td>gentle</td>\n      <td>156.828771</td>\n      <td>786</td>\n      <td>6.985941e+08</td>\n      <td>0.309788</td>\n    </tr>\n    <tr>\n      <th>...</th>\n      <td>...</td>\n      <td>...</td>\n      <td>...</td>\n      <td>...</td>\n      <td>...</td>\n      <td>...</td>\n      <td>...</td>\n    </tr>\n    <tr>\n      <th>7801</th>\n      <td>2.896296</td>\n      <td>tickle</td>\n      <td>rough</td>\n      <td>171.512228</td>\n      <td>853</td>\n      <td>8.934892e+07</td>\n      <td>0.210358</td>\n    </tr>\n    <tr>\n      <th>7802</th>\n      <td>4.029630</td>\n      <td>tickle</td>\n      <td>rough</td>\n      <td>141.360754</td>\n      <td>864</td>\n      <td>3.718105e+07</td>\n      <td>0.226218</td>\n    </tr>\n    <tr>\n      <th>7803</th>\n      <td>3.207407</td>\n      <td>tickle</td>\n      <td>rough</td>\n      <td>162.377057</td>\n      <td>885</td>\n      <td>1.146045e+08</td>\n      <td>0.205362</td>\n    </tr>\n    <tr>\n      <th>7804</th>\n      <td>2.962963</td>\n      <td>tickle</td>\n      <td>rough</td>\n      <td>149.128516</td>\n      <td>890</td>\n      <td>1.321851e+08</td>\n      <td>0.176523</td>\n    </tr>\n    <tr>\n      <th>7805</th>\n      <td>3.074074</td>\n      <td>NaN</td>\n      <td>NaN</td>\n      <td>143.350828</td>\n      <td>905</td>\n      <td>1.480930e+08</td>\n      <td>0.177937</td>\n    </tr>\n  </tbody>\n</table>\n<p>7805 rows × 7 columns</p>\n</div>"
     },
     "execution_count": 62,
     "metadata": {},
     "output_type": "execute_result"
    }
   ],
   "source": [
    "data"
   ],
   "metadata": {
    "collapsed": false,
    "pycharm": {
     "name": "#%%\n"
    }
   }
  },
  {
   "cell_type": "code",
   "execution_count": 59,
   "outputs": [
    {
     "data": {
      "text/plain": "         subject  variant  gesture  frame  ch1  ch2  ch3  ch4  ch5  ch6  ...  \\\n0              1        1        1      1   22   83   55   68   69   66  ...   \n1              1        1        1      2   21   83   56   68   68   65  ...   \n2              1        1        1      3   21   80   55   69   70   65  ...   \n3              1        1        1      4   21   81   53   65   69   65  ...   \n4              1        1        1      5   13   77   54   75   68   56  ...   \n...          ...      ...      ...    ...  ...  ...  ...  ...  ...  ...  ...   \n1496850       31        3       14    411  103   68   43   67   76   86  ...   \n1496851       31        3       14    412  108   72   43   73   78   90  ...   \n1496852       31        3       14    413  107   71   46   79   78   92  ...   \n1496853       31        3       14    414  107   71   46   75   81   92  ...   \n1496854       31        3       14    415  105   75   42   75   84   92  ...   \n\n         ch59  ch60  ch61  ch62  ch63  ch64  observation  channel_max  \\\n0          31    36    35    35    28    22            1          146   \n1          33    40    38    38    28    21            1          146   \n2          30    37    36    36    26    23            1          146   \n3          32    35    36    34    28    21            1          128   \n4          31    36    32    33    29    22            1          132   \n...       ...   ...   ...   ...   ...   ...          ...          ...   \n1496850    14    19    20    20    14    20         7805          150   \n1496851    16    27    25    27    15    18         7805          159   \n1496852    17    24    27    29    14    19         7805          167   \n1496853    20    27    28    27    19    15         7805          166   \n1496854    20    27    30    30    18    21         7805          169   \n\n           index  contact_area  \n0              0      0.296875  \n1              1      0.312500  \n2              2      0.312500  \n3              3      0.406250  \n4              4      0.375000  \n...          ...           ...  \n1496850  1496850      0.343750  \n1496851  1496851      0.343750  \n1496852  1496852      0.343750  \n1496853  1496853      0.343750  \n1496854  1496854      0.343750  \n\n[1496855 rows x 72 columns]",
      "text/html": "<div>\n<style scoped>\n    .dataframe tbody tr th:only-of-type {\n        vertical-align: middle;\n    }\n\n    .dataframe tbody tr th {\n        vertical-align: top;\n    }\n\n    .dataframe thead th {\n        text-align: right;\n    }\n</style>\n<table border=\"1\" class=\"dataframe\">\n  <thead>\n    <tr style=\"text-align: right;\">\n      <th></th>\n      <th>subject</th>\n      <th>variant</th>\n      <th>gesture</th>\n      <th>frame</th>\n      <th>ch1</th>\n      <th>ch2</th>\n      <th>ch3</th>\n      <th>ch4</th>\n      <th>ch5</th>\n      <th>ch6</th>\n      <th>...</th>\n      <th>ch59</th>\n      <th>ch60</th>\n      <th>ch61</th>\n      <th>ch62</th>\n      <th>ch63</th>\n      <th>ch64</th>\n      <th>observation</th>\n      <th>channel_max</th>\n      <th>index</th>\n      <th>contact_area</th>\n    </tr>\n  </thead>\n  <tbody>\n    <tr>\n      <th>0</th>\n      <td>1</td>\n      <td>1</td>\n      <td>1</td>\n      <td>1</td>\n      <td>22</td>\n      <td>83</td>\n      <td>55</td>\n      <td>68</td>\n      <td>69</td>\n      <td>66</td>\n      <td>...</td>\n      <td>31</td>\n      <td>36</td>\n      <td>35</td>\n      <td>35</td>\n      <td>28</td>\n      <td>22</td>\n      <td>1</td>\n      <td>146</td>\n      <td>0</td>\n      <td>0.296875</td>\n    </tr>\n    <tr>\n      <th>1</th>\n      <td>1</td>\n      <td>1</td>\n      <td>1</td>\n      <td>2</td>\n      <td>21</td>\n      <td>83</td>\n      <td>56</td>\n      <td>68</td>\n      <td>68</td>\n      <td>65</td>\n      <td>...</td>\n      <td>33</td>\n      <td>40</td>\n      <td>38</td>\n      <td>38</td>\n      <td>28</td>\n      <td>21</td>\n      <td>1</td>\n      <td>146</td>\n      <td>1</td>\n      <td>0.312500</td>\n    </tr>\n    <tr>\n      <th>2</th>\n      <td>1</td>\n      <td>1</td>\n      <td>1</td>\n      <td>3</td>\n      <td>21</td>\n      <td>80</td>\n      <td>55</td>\n      <td>69</td>\n      <td>70</td>\n      <td>65</td>\n      <td>...</td>\n      <td>30</td>\n      <td>37</td>\n      <td>36</td>\n      <td>36</td>\n      <td>26</td>\n      <td>23</td>\n      <td>1</td>\n      <td>146</td>\n      <td>2</td>\n      <td>0.312500</td>\n    </tr>\n    <tr>\n      <th>3</th>\n      <td>1</td>\n      <td>1</td>\n      <td>1</td>\n      <td>4</td>\n      <td>21</td>\n      <td>81</td>\n      <td>53</td>\n      <td>65</td>\n      <td>69</td>\n      <td>65</td>\n      <td>...</td>\n      <td>32</td>\n      <td>35</td>\n      <td>36</td>\n      <td>34</td>\n      <td>28</td>\n      <td>21</td>\n      <td>1</td>\n      <td>128</td>\n      <td>3</td>\n      <td>0.406250</td>\n    </tr>\n    <tr>\n      <th>4</th>\n      <td>1</td>\n      <td>1</td>\n      <td>1</td>\n      <td>5</td>\n      <td>13</td>\n      <td>77</td>\n      <td>54</td>\n      <td>75</td>\n      <td>68</td>\n      <td>56</td>\n      <td>...</td>\n      <td>31</td>\n      <td>36</td>\n      <td>32</td>\n      <td>33</td>\n      <td>29</td>\n      <td>22</td>\n      <td>1</td>\n      <td>132</td>\n      <td>4</td>\n      <td>0.375000</td>\n    </tr>\n    <tr>\n      <th>...</th>\n      <td>...</td>\n      <td>...</td>\n      <td>...</td>\n      <td>...</td>\n      <td>...</td>\n      <td>...</td>\n      <td>...</td>\n      <td>...</td>\n      <td>...</td>\n      <td>...</td>\n      <td>...</td>\n      <td>...</td>\n      <td>...</td>\n      <td>...</td>\n      <td>...</td>\n      <td>...</td>\n      <td>...</td>\n      <td>...</td>\n      <td>...</td>\n      <td>...</td>\n      <td>...</td>\n    </tr>\n    <tr>\n      <th>1496850</th>\n      <td>31</td>\n      <td>3</td>\n      <td>14</td>\n      <td>411</td>\n      <td>103</td>\n      <td>68</td>\n      <td>43</td>\n      <td>67</td>\n      <td>76</td>\n      <td>86</td>\n      <td>...</td>\n      <td>14</td>\n      <td>19</td>\n      <td>20</td>\n      <td>20</td>\n      <td>14</td>\n      <td>20</td>\n      <td>7805</td>\n      <td>150</td>\n      <td>1496850</td>\n      <td>0.343750</td>\n    </tr>\n    <tr>\n      <th>1496851</th>\n      <td>31</td>\n      <td>3</td>\n      <td>14</td>\n      <td>412</td>\n      <td>108</td>\n      <td>72</td>\n      <td>43</td>\n      <td>73</td>\n      <td>78</td>\n      <td>90</td>\n      <td>...</td>\n      <td>16</td>\n      <td>27</td>\n      <td>25</td>\n      <td>27</td>\n      <td>15</td>\n      <td>18</td>\n      <td>7805</td>\n      <td>159</td>\n      <td>1496851</td>\n      <td>0.343750</td>\n    </tr>\n    <tr>\n      <th>1496852</th>\n      <td>31</td>\n      <td>3</td>\n      <td>14</td>\n      <td>413</td>\n      <td>107</td>\n      <td>71</td>\n      <td>46</td>\n      <td>79</td>\n      <td>78</td>\n      <td>92</td>\n      <td>...</td>\n      <td>17</td>\n      <td>24</td>\n      <td>27</td>\n      <td>29</td>\n      <td>14</td>\n      <td>19</td>\n      <td>7805</td>\n      <td>167</td>\n      <td>1496852</td>\n      <td>0.343750</td>\n    </tr>\n    <tr>\n      <th>1496853</th>\n      <td>31</td>\n      <td>3</td>\n      <td>14</td>\n      <td>414</td>\n      <td>107</td>\n      <td>71</td>\n      <td>46</td>\n      <td>75</td>\n      <td>81</td>\n      <td>92</td>\n      <td>...</td>\n      <td>20</td>\n      <td>27</td>\n      <td>28</td>\n      <td>27</td>\n      <td>19</td>\n      <td>15</td>\n      <td>7805</td>\n      <td>166</td>\n      <td>1496853</td>\n      <td>0.343750</td>\n    </tr>\n    <tr>\n      <th>1496854</th>\n      <td>31</td>\n      <td>3</td>\n      <td>14</td>\n      <td>415</td>\n      <td>105</td>\n      <td>75</td>\n      <td>42</td>\n      <td>75</td>\n      <td>84</td>\n      <td>92</td>\n      <td>...</td>\n      <td>20</td>\n      <td>27</td>\n      <td>30</td>\n      <td>30</td>\n      <td>18</td>\n      <td>21</td>\n      <td>7805</td>\n      <td>169</td>\n      <td>1496854</td>\n      <td>0.343750</td>\n    </tr>\n  </tbody>\n</table>\n<p>1496855 rows × 72 columns</p>\n</div>"
     },
     "execution_count": 59,
     "metadata": {},
     "output_type": "execute_result"
    }
   ],
   "source": [
    "df"
   ],
   "metadata": {
    "collapsed": false,
    "pycharm": {
     "name": "#%%\n"
    }
   }
  },
  {
   "cell_type": "markdown",
   "source": [],
   "metadata": {
    "collapsed": false,
    "pycharm": {
     "name": "#%% md\n"
    }
   }
  }
 ],
 "metadata": {
  "kernelspec": {
   "display_name": "Python 3",
   "language": "python",
   "name": "python3"
  },
  "language_info": {
   "codemirror_mode": {
    "name": "ipython",
    "version": 2
   },
   "file_extension": ".py",
   "mimetype": "text/x-python",
   "name": "python",
   "nbconvert_exporter": "python",
   "pygments_lexer": "ipython2",
   "version": "2.7.6"
  }
 },
 "nbformat": 4,
 "nbformat_minor": 0
}